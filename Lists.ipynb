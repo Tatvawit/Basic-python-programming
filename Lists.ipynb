{
 "cells": [
  {
   "cell_type": "code",
   "execution_count": 1,
   "id": "2b146963",
   "metadata": {},
   "outputs": [
    {
     "data": {
      "text/plain": [
       "['Jhon', 'Neon', 'Infamouz']"
      ]
     },
     "execution_count": 1,
     "metadata": {},
     "output_type": "execute_result"
    }
   ],
   "source": [
    "# Creating the list\n",
    "\n",
    "Participants = ['Jhon','Neon','Infamouz']\n",
    "Participants"
   ]
  },
  {
   "cell_type": "code",
   "execution_count": 2,
   "id": "64c92097",
   "metadata": {},
   "outputs": [
    {
     "data": {
      "text/plain": [
       "'Infamouz'"
      ]
     },
     "execution_count": 2,
     "metadata": {},
     "output_type": "execute_result"
    }
   ],
   "source": [
    "Participants[2]"
   ]
  },
  {
   "cell_type": "code",
   "execution_count": 3,
   "id": "60782349",
   "metadata": {},
   "outputs": [
    {
     "data": {
      "text/plain": [
       "'Neon'"
      ]
     },
     "execution_count": 3,
     "metadata": {},
     "output_type": "execute_result"
    }
   ],
   "source": [
    "Participants[-2]"
   ]
  },
  {
   "cell_type": "code",
   "execution_count": 4,
   "id": "de6af6b5",
   "metadata": {},
   "outputs": [],
   "source": [
    "# to calculate the value based on index value in list \n",
    "\n",
    "Participants[0] = 'Killjoy'"
   ]
  },
  {
   "cell_type": "code",
   "execution_count": 5,
   "id": "3ad05c98",
   "metadata": {},
   "outputs": [
    {
     "data": {
      "text/plain": [
       "['Killjoy', 'Neon', 'Infamouz']"
      ]
     },
     "execution_count": 5,
     "metadata": {},
     "output_type": "execute_result"
    }
   ],
   "source": [
    "Participants"
   ]
  },
  {
   "cell_type": "code",
   "execution_count": 6,
   "id": "3cedeb10",
   "metadata": {},
   "outputs": [],
   "source": [
    "# To delete the value from a list\n",
    "\n",
    "del Participants[2]"
   ]
  },
  {
   "cell_type": "code",
   "execution_count": 7,
   "id": "1c01a89f",
   "metadata": {},
   "outputs": [
    {
     "data": {
      "text/plain": [
       "['Killjoy', 'Neon']"
      ]
     },
     "execution_count": 7,
     "metadata": {},
     "output_type": "execute_result"
    }
   ],
   "source": [
    "Participants"
   ]
  },
  {
   "cell_type": "code",
   "execution_count": 8,
   "id": "d3e05a6e",
   "metadata": {},
   "outputs": [],
   "source": [
    "# To add a value in a list\n",
    "\n",
    "Participants.append(\"Dwayne\")"
   ]
  },
  {
   "cell_type": "code",
   "execution_count": 9,
   "id": "e00287b1",
   "metadata": {},
   "outputs": [
    {
     "data": {
      "text/plain": [
       "['Killjoy', 'Neon', 'Dwayne']"
      ]
     },
     "execution_count": 9,
     "metadata": {},
     "output_type": "execute_result"
    }
   ],
   "source": [
    "Participants"
   ]
  },
  {
   "cell_type": "code",
   "execution_count": 10,
   "id": "a624e560",
   "metadata": {},
   "outputs": [],
   "source": [
    "# To add more than one value in list\n",
    "\n",
    "Participants.extend([\"Nova\",\"Infamouz\"])"
   ]
  },
  {
   "cell_type": "code",
   "execution_count": 11,
   "id": "bff48d0b",
   "metadata": {},
   "outputs": [
    {
     "data": {
      "text/plain": [
       "['Killjoy', 'Neon', 'Dwayne', 'Nova', 'Infamouz']"
      ]
     },
     "execution_count": 11,
     "metadata": {},
     "output_type": "execute_result"
    }
   ],
   "source": [
    "Participants"
   ]
  },
  {
   "cell_type": "code",
   "execution_count": 12,
   "id": "28155a8c",
   "metadata": {},
   "outputs": [
    {
     "data": {
      "text/plain": [
       "5"
      ]
     },
     "execution_count": 12,
     "metadata": {},
     "output_type": "execute_result"
    }
   ],
   "source": [
    "len(Participants)"
   ]
  },
  {
   "cell_type": "code",
   "execution_count": 14,
   "id": "48ee8a2a",
   "metadata": {},
   "outputs": [
    {
     "data": {
      "text/plain": [
       "['Neon', 'Dwayne']"
      ]
     },
     "execution_count": 14,
     "metadata": {},
     "output_type": "execute_result"
    }
   ],
   "source": [
    "# Slicing the list\n",
    "\n",
    "Participants[1:3]"
   ]
  },
  {
   "cell_type": "code",
   "execution_count": 15,
   "id": "9a6adcdc",
   "metadata": {},
   "outputs": [
    {
     "data": {
      "text/plain": [
       "['Killjoy', 'Neon', 'Dwayne']"
      ]
     },
     "execution_count": 15,
     "metadata": {},
     "output_type": "execute_result"
    }
   ],
   "source": [
    "Participants[:3]"
   ]
  },
  {
   "cell_type": "code",
   "execution_count": 16,
   "id": "d421a101",
   "metadata": {},
   "outputs": [
    {
     "data": {
      "text/plain": [
       "['Infamouz']"
      ]
     },
     "execution_count": 16,
     "metadata": {},
     "output_type": "execute_result"
    }
   ],
   "source": [
    "Participants[4:]"
   ]
  },
  {
   "cell_type": "code",
   "execution_count": 18,
   "id": "f311fd10",
   "metadata": {},
   "outputs": [
    {
     "data": {
      "text/plain": [
       "0"
      ]
     },
     "execution_count": 18,
     "metadata": {},
     "output_type": "execute_result"
    }
   ],
   "source": [
    "# To Know the Index of the value in list\n",
    "\n",
    "Participants.index(\"Killjoy\")"
   ]
  },
  {
   "cell_type": "code",
   "execution_count": 19,
   "id": "aa5e1686",
   "metadata": {},
   "outputs": [],
   "source": [
    "# Creating new list add to older list to create new one\n",
    "\n",
    "Newcomers = [\"Ryena\",\"Cypher\"]"
   ]
  },
  {
   "cell_type": "code",
   "execution_count": 20,
   "id": "34041a91",
   "metadata": {},
   "outputs": [],
   "source": [
    "Bigger_list = [Participants,Newcomers]"
   ]
  },
  {
   "cell_type": "code",
   "execution_count": 21,
   "id": "36cbb813",
   "metadata": {},
   "outputs": [
    {
     "data": {
      "text/plain": [
       "[['Killjoy', 'Neon', 'Dwayne', 'Nova', 'Infamouz'], ['Ryena', 'Cypher']]"
      ]
     },
     "execution_count": 21,
     "metadata": {},
     "output_type": "execute_result"
    }
   ],
   "source": [
    "Bigger_list"
   ]
  },
  {
   "cell_type": "code",
   "execution_count": 23,
   "id": "1fac1692",
   "metadata": {},
   "outputs": [
    {
     "data": {
      "text/plain": [
       "['Dwayne', 'Infamouz', 'Killjoy', 'Neon', 'Nova']"
      ]
     },
     "execution_count": 23,
     "metadata": {},
     "output_type": "execute_result"
    }
   ],
   "source": [
    "# Sorting the list\n",
    "\n",
    "Participants.sort()\n",
    "Participants"
   ]
  },
  {
   "cell_type": "code",
   "execution_count": 24,
   "id": "9bfd5048",
   "metadata": {},
   "outputs": [
    {
     "data": {
      "text/plain": [
       "['Nova', 'Neon', 'Killjoy', 'Infamouz', 'Dwayne']"
      ]
     },
     "execution_count": 24,
     "metadata": {},
     "output_type": "execute_result"
    }
   ],
   "source": [
    "Participants.sort(reverse = True)\n",
    "Participants"
   ]
  },
  {
   "cell_type": "code",
   "execution_count": null,
   "id": "3cc240a2",
   "metadata": {},
   "outputs": [],
   "source": []
  }
 ],
 "metadata": {
  "kernelspec": {
   "display_name": "Python 3 (ipykernel)",
   "language": "python",
   "name": "python3"
  },
  "language_info": {
   "codemirror_mode": {
    "name": "ipython",
    "version": 3
   },
   "file_extension": ".py",
   "mimetype": "text/x-python",
   "name": "python",
   "nbconvert_exporter": "python",
   "pygments_lexer": "ipython3",
   "version": "3.9.7"
  }
 },
 "nbformat": 4,
 "nbformat_minor": 5
}
