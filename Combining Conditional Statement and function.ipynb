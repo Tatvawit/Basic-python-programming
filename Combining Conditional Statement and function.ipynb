{
 "cells": [
  {
   "cell_type": "code",
   "execution_count": 3,
   "id": "84fc95d9",
   "metadata": {},
   "outputs": [],
   "source": [
    "def add_ten(money_saved):\n",
    "    if money_saved >= 100 :\n",
    "        return money_saved + 10\n",
    "    else:\n",
    "        return \"Saved more !\""
   ]
  },
  {
   "cell_type": "code",
   "execution_count": 4,
   "id": "8a74e4ba",
   "metadata": {},
   "outputs": [
    {
     "data": {
      "text/plain": [
       "210"
      ]
     },
     "execution_count": 4,
     "metadata": {},
     "output_type": "execute_result"
    }
   ],
   "source": [
    "add_ten(200)"
   ]
  },
  {
   "cell_type": "code",
   "execution_count": 5,
   "id": "332ce92c",
   "metadata": {},
   "outputs": [
    {
     "data": {
      "text/plain": [
       "'Saved more !'"
      ]
     },
     "execution_count": 5,
     "metadata": {},
     "output_type": "execute_result"
    }
   ],
   "source": [
    "add_ten(90)"
   ]
  },
  {
   "cell_type": "markdown",
   "id": "df073172",
   "metadata": {},
   "source": []
  }
 ],
 "metadata": {
  "kernelspec": {
   "display_name": "Python 3 (ipykernel)",
   "language": "python",
   "name": "python3"
  },
  "language_info": {
   "codemirror_mode": {
    "name": "ipython",
    "version": 3
   },
   "file_extension": ".py",
   "mimetype": "text/x-python",
   "name": "python",
   "nbconvert_exporter": "python",
   "pygments_lexer": "ipython3",
   "version": "3.9.7"
  }
 },
 "nbformat": 4,
 "nbformat_minor": 5
}
