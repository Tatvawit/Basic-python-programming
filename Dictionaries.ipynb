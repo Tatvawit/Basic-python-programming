{
 "cells": [
  {
   "cell_type": "code",
   "execution_count": 1,
   "id": "eaadb137",
   "metadata": {},
   "outputs": [
    {
     "data": {
      "text/plain": [
       "{'k1': 'cat', 'k2': 'dog', 'k3': 'ghost'}"
      ]
     },
     "execution_count": 1,
     "metadata": {},
     "output_type": "execute_result"
    }
   ],
   "source": [
    "# creating the dictionaries\n",
    "\n",
    "dict = {'k1':\"cat\" , 'k2' : \"dog\" , 'k3' : \"ghost\"}\n",
    "dict"
   ]
  },
  {
   "cell_type": "code",
   "execution_count": 2,
   "id": "93958914",
   "metadata": {},
   "outputs": [
    {
     "data": {
      "text/plain": [
       "'cat'"
      ]
     },
     "execution_count": 2,
     "metadata": {},
     "output_type": "execute_result"
    }
   ],
   "source": [
    "dict['k1']"
   ]
  },
  {
   "cell_type": "code",
   "execution_count": 3,
   "id": "51a9dec8",
   "metadata": {},
   "outputs": [
    {
     "data": {
      "text/plain": [
       "{'k1': 'cat', 'k2': 'dog', 'k3': 'ghost', 'k5': 'parrot'}"
      ]
     },
     "execution_count": 3,
     "metadata": {},
     "output_type": "execute_result"
    }
   ],
   "source": [
    "# addin new value to dictionary\n",
    "dict['k5'] = 'parrot'\n",
    "dict"
   ]
  },
  {
   "cell_type": "code",
   "execution_count": 4,
   "id": "0f315945",
   "metadata": {},
   "outputs": [
    {
     "data": {
      "text/plain": [
       "{'k1': 'cat', 'k2': 'rabbit', 'k3': 'ghost', 'k5': 'parrot'}"
      ]
     },
     "execution_count": 4,
     "metadata": {},
     "output_type": "execute_result"
    }
   ],
   "source": [
    "# assigning new value to existing value in dictionary\n",
    "\n",
    "dict['k2'] = 'rabbit'"
   ]
  },
  {
   "cell_type": "code",
   "execution_count": 5,
   "id": "3a4671d8",
   "metadata": {},
   "outputs": [],
   "source": [
    "# Creating list within dictionary\n",
    "\n",
    "dep_worker = {'dep_1' : 'Peter' , 'dep_2' : ['Jennifer' , 'Lopez' , 'Moroan']}"
   ]
  },
  {
   "cell_type": "code",
   "execution_count": 6,
   "id": "573b526c",
   "metadata": {},
   "outputs": [
    {
     "data": {
      "text/plain": [
       "['Jennifer', 'Lopez', 'Moroan']"
      ]
     },
     "execution_count": 6,
     "metadata": {},
     "output_type": "execute_result"
    }
   ],
   "source": [
    "dep_worker['dep_2']"
   ]
  },
  {
   "cell_type": "code",
   "execution_count": 7,
   "id": "deb5d590",
   "metadata": {},
   "outputs": [],
   "source": [
    "# Another way to fill dictionary\n",
    "\n",
    "team = {}\n",
    "team['Point Guard'] = 'Dirk'\n",
    "team['Shooting Guard'] = 'Al'\n",
    "team['Small Forward'] = 'Sean'"
   ]
  },
  {
   "cell_type": "code",
   "execution_count": 8,
   "id": "ea9b46d4",
   "metadata": {},
   "outputs": [
    {
     "name": "stdout",
     "output_type": "stream",
     "text": [
      "{'Point Guard': 'Dirk', 'Shooting Guard': 'Al', 'Small Forward': 'Sean'}\n"
     ]
    }
   ],
   "source": [
    "print(team)"
   ]
  },
  {
   "cell_type": "code",
   "execution_count": 11,
   "id": "f34e079b",
   "metadata": {},
   "outputs": [
    {
     "name": "stdout",
     "output_type": "stream",
     "text": [
      "Sean\n"
     ]
    }
   ],
   "source": [
    "print (team.get('Small Forward'))"
   ]
  },
  {
   "cell_type": "code",
   "execution_count": null,
   "id": "ac4450bb",
   "metadata": {},
   "outputs": [],
   "source": []
  }
 ],
 "metadata": {
  "kernelspec": {
   "display_name": "Python 3 (ipykernel)",
   "language": "python",
   "name": "python3"
  },
  "language_info": {
   "codemirror_mode": {
    "name": "ipython",
    "version": 3
   },
   "file_extension": ".py",
   "mimetype": "text/x-python",
   "name": "python",
   "nbconvert_exporter": "python",
   "pygments_lexer": "ipython3",
   "version": "3.9.7"
  }
 },
 "nbformat": 4,
 "nbformat_minor": 5
}
