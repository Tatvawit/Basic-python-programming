{
 "cells": [
  {
   "cell_type": "code",
   "execution_count": 2,
   "id": "b9ccef41",
   "metadata": {},
   "outputs": [],
   "source": [
    "def simple() :\n",
    "    print(\"My first function\")    "
   ]
  },
  {
   "cell_type": "code",
   "execution_count": 3,
   "id": "25aca6ab",
   "metadata": {},
   "outputs": [
    {
     "name": "stdout",
     "output_type": "stream",
     "text": [
      "My first function\n"
     ]
    }
   ],
   "source": [
    "simple()"
   ]
  },
  {
   "cell_type": "code",
   "execution_count": 4,
   "id": "4b46adf5",
   "metadata": {},
   "outputs": [],
   "source": [
    "def plus_ten(a):\n",
    "    return a + 10\n"
   ]
  },
  {
   "cell_type": "code",
   "execution_count": 5,
   "id": "c89a1d84",
   "metadata": {},
   "outputs": [
    {
     "data": {
      "text/plain": [
       "14"
      ]
     },
     "execution_count": 5,
     "metadata": {},
     "output_type": "execute_result"
    }
   ],
   "source": [
    "plus_ten(4)"
   ]
  },
  {
   "cell_type": "code",
   "execution_count": 1,
   "id": "9c5ae7a8",
   "metadata": {},
   "outputs": [],
   "source": [
    "def plus_fifteen(a):\n",
    "    b = a + 15\n",
    "    return b"
   ]
  },
  {
   "cell_type": "code",
   "execution_count": 2,
   "id": "c02b7237",
   "metadata": {},
   "outputs": [
    {
     "data": {
      "text/plain": [
       "25"
      ]
     },
     "execution_count": 2,
     "metadata": {},
     "output_type": "execute_result"
    }
   ],
   "source": [
    "plus_fifteen(10)"
   ]
  },
  {
   "cell_type": "code",
   "execution_count": null,
   "id": "250cb7fc",
   "metadata": {},
   "outputs": [],
   "source": []
  }
 ],
 "metadata": {
  "kernelspec": {
   "display_name": "Python 3 (ipykernel)",
   "language": "python",
   "name": "python3"
  },
  "language_info": {
   "codemirror_mode": {
    "name": "ipython",
    "version": 3
   },
   "file_extension": ".py",
   "mimetype": "text/x-python",
   "name": "python",
   "nbconvert_exporter": "python",
   "pygments_lexer": "ipython3",
   "version": "3.9.7"
  }
 },
 "nbformat": 4,
 "nbformat_minor": 5
}
