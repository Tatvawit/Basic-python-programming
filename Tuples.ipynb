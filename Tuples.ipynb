{
 "cells": [
  {
   "cell_type": "code",
   "execution_count": 2,
   "id": "c082b4e1",
   "metadata": {},
   "outputs": [
    {
     "data": {
      "text/plain": [
       "(40, 30, 20)"
      ]
     },
     "execution_count": 2,
     "metadata": {},
     "output_type": "execute_result"
    }
   ],
   "source": [
    "# To creating the tuples\n",
    "\n",
    "a = (40,30,20)\n",
    "a"
   ]
  },
  {
   "cell_type": "code",
   "execution_count": 4,
   "id": "51b747ea",
   "metadata": {},
   "outputs": [
    {
     "data": {
      "text/plain": [
       "4"
      ]
     },
     "execution_count": 4,
     "metadata": {},
     "output_type": "execute_result"
    }
   ],
   "source": [
    "a , b, c = 1, 4 , 6\n",
    "b"
   ]
  },
  {
   "cell_type": "code",
   "execution_count": 5,
   "id": "3a5f4bae",
   "metadata": {},
   "outputs": [
    {
     "data": {
      "text/plain": [
       "list[1, 4]"
      ]
     },
     "execution_count": 5,
     "metadata": {},
     "output_type": "execute_result"
    }
   ],
   "source": [
    "list [a,b]"
   ]
  },
  {
   "cell_type": "code",
   "execution_count": 6,
   "id": "01b67424",
   "metadata": {},
   "outputs": [],
   "source": [
    "# spliting the value\n",
    "\n",
    "(age,years_of_school) = \"30,17\".split(',')"
   ]
  },
  {
   "cell_type": "code",
   "execution_count": 8,
   "id": "6b67773f",
   "metadata": {},
   "outputs": [
    {
     "name": "stdout",
     "output_type": "stream",
     "text": [
      "30\n"
     ]
    }
   ],
   "source": [
    "print (age)"
   ]
  },
  {
   "cell_type": "code",
   "execution_count": 10,
   "id": "fc2157c2",
   "metadata": {},
   "outputs": [],
   "source": [
    "# function result as tuples\n",
    "\n",
    "def square_info(x):\n",
    "    A = x**2\n",
    "    B = 4 * x\n",
    "    print(\"Area and perimeter :\")\n",
    "    return A,B"
   ]
  },
  {
   "cell_type": "code",
   "execution_count": 11,
   "id": "08b3b0ee",
   "metadata": {},
   "outputs": [
    {
     "name": "stdout",
     "output_type": "stream",
     "text": [
      "Area and perimeter :\n"
     ]
    },
    {
     "data": {
      "text/plain": [
       "(4, 8)"
      ]
     },
     "execution_count": 11,
     "metadata": {},
     "output_type": "execute_result"
    }
   ],
   "source": [
    "square_info(2)"
   ]
  },
  {
   "cell_type": "code",
   "execution_count": null,
   "id": "2b50dbdb",
   "metadata": {},
   "outputs": [],
   "source": []
  }
 ],
 "metadata": {
  "kernelspec": {
   "display_name": "Python 3 (ipykernel)",
   "language": "python",
   "name": "python3"
  },
  "language_info": {
   "codemirror_mode": {
    "name": "ipython",
    "version": 3
   },
   "file_extension": ".py",
   "mimetype": "text/x-python",
   "name": "python",
   "nbconvert_exporter": "python",
   "pygments_lexer": "ipython3",
   "version": "3.9.7"
  }
 },
 "nbformat": 4,
 "nbformat_minor": 5
}
