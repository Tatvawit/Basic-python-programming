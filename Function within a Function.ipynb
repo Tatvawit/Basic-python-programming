{
 "cells": [
  {
   "cell_type": "code",
   "execution_count": 1,
   "id": "3147e23f",
   "metadata": {},
   "outputs": [],
   "source": [
    "def wage(working_hours):\n",
    "    return working_hours * 25\n",
    "\n",
    "def with_bonus(working_hours):\n",
    "    return wage(working_hours) + 50\n"
   ]
  },
  {
   "cell_type": "code",
   "execution_count": 2,
   "id": "4afbb51b",
   "metadata": {},
   "outputs": [
    {
     "data": {
      "text/plain": [
       "(200, 250)"
      ]
     },
     "execution_count": 2,
     "metadata": {},
     "output_type": "execute_result"
    }
   ],
   "source": [
    "wage(8),with_bonus(8)"
   ]
  },
  {
   "cell_type": "code",
   "execution_count": null,
   "id": "3a6c715e",
   "metadata": {},
   "outputs": [],
   "source": []
  }
 ],
 "metadata": {
  "kernelspec": {
   "display_name": "Python 3 (ipykernel)",
   "language": "python",
   "name": "python3"
  },
  "language_info": {
   "codemirror_mode": {
    "name": "ipython",
    "version": 3
   },
   "file_extension": ".py",
   "mimetype": "text/x-python",
   "name": "python",
   "nbconvert_exporter": "python",
   "pygments_lexer": "ipython3",
   "version": "3.9.7"
  }
 },
 "nbformat": 4,
 "nbformat_minor": 5
}
